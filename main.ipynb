{
 "cells": [
  {
   "cell_type": "code",
   "execution_count": 14,
   "id": "6bc0fd6a",
   "metadata": {},
   "outputs": [],
   "source": [
    "import cv2\n",
    "import time"
   ]
  },
  {
   "cell_type": "code",
   "execution_count": 15,
   "id": "4323686d",
   "metadata": {},
   "outputs": [],
   "source": [
    "def apply_brightness_contrast(input_img, brightness=0, contrast=0):\n",
    "    if brightness != 0:\n",
    "        if brightness > 0:\n",
    "            shadow = brightness\n",
    "            highlight = 255\n",
    "        else:\n",
    "            shadow = 0\n",
    "            highlight = 255 + brightness\n",
    "        alpha_b = (highlight - shadow) / 255\n",
    "        gamma_b = shadow\n",
    "\n",
    "        input_img = cv2.addWeighted(input_img, alpha_b, input_img, 0, gamma_b)\n",
    "\n",
    "    if contrast != 0:\n",
    "        f = 131 * (contrast + 127) / (127 * (131 - contrast))\n",
    "        alpha_c = f\n",
    "        gamma_c = 127 * (1 - f)\n",
    "\n",
    "        input_img = cv2.addWeighted(input_img, alpha_c, input_img, 0, gamma_c)\n",
    "\n",
    "    return input_img"
   ]
  },
  {
   "cell_type": "code",
   "execution_count": 16,
   "id": "067b8aa8",
   "metadata": {},
   "outputs": [],
   "source": [
    "cap = cv2.VideoCapture('rtsp://210.99.70.120:1935/live/cctv009.stream')\n",
    "fourcc = cv2.VideoWriter_fourcc(*'XVID')\n",
    "out = cv2.VideoWriter('save_path', fourcc, 20.0, (640, 480))\n",
    "is_recording = False\n",
    "start_time = None\n",
    "brightness = 0\n",
    "contrast = 0\n",
    "\n",
    "while cap.isOpened():\n",
    "    ret, frame = cap.read()\n",
    "    if not ret:\n",
    "        print(\"카메라에서 프레임을 읽을 수 없습니다.\")\n",
    "        break\n",
    "\n",
    "    frame = apply_brightness_contrast(frame, brightness, contrast)\n",
    "\n",
    "    if is_recording:\n",
    "        if start_time is None:\n",
    "            start_time = time.time()\n",
    "        elapsed_time = time.time() - start_time\n",
    "        minutes = int(elapsed_time // 60)\n",
    "        seconds = int(elapsed_time % 60)\n",
    "\n",
    "        out.write(frame)\n",
    "        cv2.circle(frame, (35, 35), 13, (0, 0, 255), -1)\n",
    "\n",
    "        time_text = f\"Recording: {minutes:02}:{seconds:02}\"\n",
    "        cv2.putText(frame, time_text, (60, 40), cv2.FONT_HERSHEY_SIMPLEX, 0.6, (0, 0, 255), 2)\n",
    "\n",
    "    cv2.imshow('Video Recorder', frame)\n",
    "    key = cv2.waitKey(1) & 0xFF\n",
    "\n",
    "    if key == ord(' '): #space\n",
    "        is_recording = not is_recording\n",
    "\n",
    "    # 'w'와 's'로 밝기 조절\n",
    "    if key == ord('w'):\n",
    "        brightness = min(255, brightness + 10)\n",
    "    elif key == ord('s'):\n",
    "        brightness = max(-255, brightness - 10)\n",
    "\n",
    "    # 'a'와 'd'로 대비 조절\n",
    "    if key == ord('a'):\n",
    "        contrast = max(-127, contrast - 10)\n",
    "    elif key == ord('d'):\n",
    "        contrast = min(127, contrast + 10)\n",
    "\n",
    "\n",
    "    if key == 27: \n",
    "        break\n",
    "\n",
    "cap.release()\n",
    "out.release()\n",
    "cv2.destroyAllWindows()"
   ]
  },
  {
   "cell_type": "code",
   "execution_count": null,
   "id": "35e4dc74",
   "metadata": {},
   "outputs": [],
   "source": []
  }
 ],
 "metadata": {
  "kernelspec": {
   "display_name": "Python 3 (ipykernel)",
   "language": "python",
   "name": "python3"
  },
  "language_info": {
   "codemirror_mode": {
    "name": "ipython",
    "version": 3
   },
   "file_extension": ".py",
   "mimetype": "text/x-python",
   "name": "python",
   "nbconvert_exporter": "python",
   "pygments_lexer": "ipython3",
   "version": "3.10.13"
  }
 },
 "nbformat": 4,
 "nbformat_minor": 5
}
